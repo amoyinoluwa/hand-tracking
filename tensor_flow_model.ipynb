{
  "cells": [
    {
      "cell_type": "code",
      "execution_count": 2,
      "metadata": {
        "colab": {
          "base_uri": "https://localhost:8080/",
          "height": 1000
        },
        "id": "MPI186RuxYyZ",
        "outputId": "63d1ebde-5b4d-4a15-9954-4511b63b061d"
      },
      "outputs": [
        {
          "name": "stdout",
          "output_type": "stream",
          "text": [
            "^C\n"
          ]
        },
        {
          "name": "stdout",
          "output_type": "stream",
          "text": [
            "Collecting tensorflow\n",
            "  Downloading tensorflow-2.11.0-cp37-cp37m-win_amd64.whl (1.9 kB)\n",
            "Collecting tensorflow-intel==2.11.0\n",
            "  Downloading tensorflow_intel-2.11.0-cp37-cp37m-win_amd64.whl (266.3 MB)\n",
            "     -------------------------------------- 266.3/266.3 MB 3.0 MB/s eta 0:00:00\n",
            "Requirement already satisfied: setuptools in c:\\users\\vishn\\anaconda3\\envs\\env1\\lib\\site-packages (from tensorflow-intel==2.11.0->tensorflow) (63.4.1)\n",
            "Collecting keras<2.12,>=2.11.0\n",
            "  Downloading keras-2.11.0-py2.py3-none-any.whl (1.7 MB)\n",
            "     ---------------------------------------- 1.7/1.7 MB 7.2 MB/s eta 0:00:00\n",
            "Collecting opt-einsum>=2.3.2\n",
            "  Downloading opt_einsum-3.3.0-py3-none-any.whl (65 kB)\n",
            "     ---------------------------------------- 65.5/65.5 kB 3.7 MB/s eta 0:00:00\n",
            "Collecting absl-py>=1.0.0\n",
            "  Downloading absl_py-2.1.0-py3-none-any.whl (133 kB)\n",
            "     -------------------------------------- 133.7/133.7 kB 8.2 MB/s eta 0:00:00\n",
            "Collecting wrapt>=1.11.0\n",
            "  Downloading wrapt-1.16.0-cp37-cp37m-win_amd64.whl (37 kB)\n",
            "Collecting termcolor>=1.1.0\n",
            "  Downloading termcolor-2.3.0-py3-none-any.whl (6.9 kB)\n",
            "Requirement already satisfied: six>=1.12.0 in c:\\users\\vishn\\anaconda3\\envs\\env1\\lib\\site-packages (from tensorflow-intel==2.11.0->tensorflow) (1.16.0)\n",
            "Collecting h5py>=2.9.0\n",
            "  Downloading h5py-3.8.0-cp37-cp37m-win_amd64.whl (2.6 MB)\n",
            "     ---------------------------------------- 2.6/2.6 MB 6.7 MB/s eta 0:00:00\n",
            "Collecting tensorboard<2.12,>=2.11\n",
            "  Downloading tensorboard-2.11.2-py3-none-any.whl (6.0 MB)\n",
            "     ---------------------------------------- 6.0/6.0 MB 7.7 MB/s eta 0:00:00\n",
            "Requirement already satisfied: packaging in c:\\users\\vishn\\anaconda3\\envs\\env1\\lib\\site-packages (from tensorflow-intel==2.11.0->tensorflow) (23.1)\n",
            "Collecting astunparse>=1.6.0\n",
            "  Downloading astunparse-1.6.3-py2.py3-none-any.whl (12 kB)\n",
            "Collecting protobuf<3.20,>=3.9.2\n",
            "  Downloading protobuf-3.19.6-cp37-cp37m-win_amd64.whl (896 kB)\n",
            "     -------------------------------------- 896.6/896.6 kB 8.1 MB/s eta 0:00:00\n",
            "Collecting libclang>=13.0.0\n",
            "  Downloading libclang-16.0.6-py2.py3-none-win_amd64.whl (24.4 MB)\n",
            "     ---------------------------------------- 24.4/24.4 MB 5.4 MB/s eta 0:00:00\n",
            "Collecting gast<=0.4.0,>=0.2.1\n",
            "  Downloading gast-0.4.0-py3-none-any.whl (9.8 kB)\n",
            "Collecting google-pasta>=0.1.1\n",
            "  Downloading google_pasta-0.2.0-py3-none-any.whl (57 kB)\n",
            "     ---------------------------------------- 57.5/57.5 kB 3.1 MB/s eta 0:00:00\n",
            "Collecting grpcio<2.0,>=1.24.3\n",
            "  Downloading grpcio-1.60.1-cp37-cp37m-win_amd64.whl (4.4 MB)\n",
            "     ---------------------------------------- 4.4/4.4 MB 7.0 MB/s eta 0:00:00\n",
            "Collecting tensorflow-io-gcs-filesystem>=0.23.1\n",
            "  Downloading tensorflow_io_gcs_filesystem-0.31.0-cp37-cp37m-win_amd64.whl (1.5 MB)\n",
            "     ---------------------------------------- 1.5/1.5 MB 7.3 MB/s eta 0:00:00\n",
            "Collecting flatbuffers>=2.0\n",
            "  Downloading flatbuffers-23.5.26-py2.py3-none-any.whl (26 kB)\n",
            "Collecting tensorflow-estimator<2.12,>=2.11.0\n",
            "  Downloading tensorflow_estimator-2.11.0-py2.py3-none-any.whl (439 kB)\n",
            "     -------------------------------------- 439.2/439.2 kB 6.8 MB/s eta 0:00:00\n",
            "Requirement already satisfied: numpy>=1.20 in c:\\users\\vishn\\anaconda3\\envs\\env1\\lib\\site-packages (from tensorflow-intel==2.11.0->tensorflow) (1.21.6)\n",
            "Requirement already satisfied: typing-extensions>=3.6.6 in c:\\users\\vishn\\anaconda3\\envs\\env1\\lib\\site-packages (from tensorflow-intel==2.11.0->tensorflow) (4.1.1)\n",
            "Requirement already satisfied: wheel<1.0,>=0.23.0 in c:\\users\\vishn\\anaconda3\\envs\\env1\\lib\\site-packages (from astunparse>=1.6.0->tensorflow-intel==2.11.0->tensorflow) (0.37.1)\n",
            "Collecting markdown>=2.6.8\n",
            "  Downloading Markdown-3.4.4-py3-none-any.whl (94 kB)\n",
            "     ---------------------------------------- 94.2/94.2 kB 5.6 MB/s eta 0:00:00\n",
            "Collecting tensorboard-plugin-wit>=1.6.0\n",
            "  Downloading tensorboard_plugin_wit-1.8.1-py3-none-any.whl (781 kB)\n",
            "     -------------------------------------- 781.3/781.3 kB 8.2 MB/s eta 0:00:00\n",
            "Collecting google-auth<3,>=1.6.3\n",
            "  Downloading google_auth-2.27.0-py2.py3-none-any.whl (186 kB)\n",
            "     ------------------------------------- 186.8/186.8 kB 11.8 MB/s eta 0:00:00\n",
            "Requirement already satisfied: requests<3,>=2.21.0 in c:\\users\\vishn\\anaconda3\\envs\\env1\\lib\\site-packages (from tensorboard<2.12,>=2.11->tensorflow-intel==2.11.0->tensorflow) (2.31.0)\n",
            "Requirement already satisfied: werkzeug>=1.0.1 in c:\\users\\vishn\\anaconda3\\envs\\env1\\lib\\site-packages (from tensorboard<2.12,>=2.11->tensorflow-intel==2.11.0->tensorflow) (2.0.3)\n",
            "Collecting tensorboard-data-server<0.7.0,>=0.6.0\n",
            "  Downloading tensorboard_data_server-0.6.1-py3-none-any.whl (2.4 kB)\n",
            "Collecting google-auth-oauthlib<0.5,>=0.4.1\n",
            "  Downloading google_auth_oauthlib-0.4.6-py2.py3-none-any.whl (18 kB)\n",
            "Collecting pyasn1-modules>=0.2.1\n",
            "  Downloading pyasn1_modules-0.3.0-py2.py3-none-any.whl (181 kB)\n",
            "     ---------------------------------------- 181.3/181.3 kB ? eta 0:00:00\n",
            "Collecting cachetools<6.0,>=2.0.0\n",
            "  Downloading cachetools-5.3.2-py3-none-any.whl (9.3 kB)\n",
            "Collecting rsa<5,>=3.1.4\n",
            "  Downloading rsa-4.9-py3-none-any.whl (34 kB)\n",
            "Collecting requests-oauthlib>=0.7.0\n",
            "  Downloading requests_oauthlib-1.3.1-py2.py3-none-any.whl (23 kB)\n",
            "Requirement already satisfied: importlib-metadata>=4.4 in c:\\users\\vishn\\anaconda3\\envs\\env1\\lib\\site-packages (from markdown>=2.6.8->tensorboard<2.12,>=2.11->tensorflow-intel==2.11.0->tensorflow) (4.11.3)\n",
            "Requirement already satisfied: urllib3<3,>=1.21.1 in c:\\users\\vishn\\anaconda3\\envs\\env1\\lib\\site-packages (from requests<3,>=2.21.0->tensorboard<2.12,>=2.11->tensorflow-intel==2.11.0->tensorflow) (2.0.4)\n",
            "Requirement already satisfied: idna<4,>=2.5 in c:\\users\\vishn\\anaconda3\\envs\\env1\\lib\\site-packages (from requests<3,>=2.21.0->tensorboard<2.12,>=2.11->tensorflow-intel==2.11.0->tensorflow) (3.4)\n",
            "Requirement already satisfied: charset-normalizer<4,>=2 in c:\\users\\vishn\\anaconda3\\envs\\env1\\lib\\site-packages (from requests<3,>=2.21.0->tensorboard<2.12,>=2.11->tensorflow-intel==2.11.0->tensorflow) (3.2.0)\n",
            "Requirement already satisfied: certifi>=2017.4.17 in c:\\users\\vishn\\anaconda3\\envs\\env1\\lib\\site-packages (from requests<3,>=2.21.0->tensorboard<2.12,>=2.11->tensorflow-intel==2.11.0->tensorflow) (2023.7.22)\n",
            "Requirement already satisfied: zipp>=0.5 in c:\\users\\vishn\\anaconda3\\envs\\env1\\lib\\site-packages (from importlib-metadata>=4.4->markdown>=2.6.8->tensorboard<2.12,>=2.11->tensorflow-intel==2.11.0->tensorflow) (3.8.0)\n",
            "Collecting pyasn1<0.6.0,>=0.4.6\n",
            "  Downloading pyasn1-0.5.1-py2.py3-none-any.whl (84 kB)\n",
            "     ---------------------------------------- 84.9/84.9 kB ? eta 0:00:00\n",
            "Collecting oauthlib>=3.0.0\n",
            "  Downloading oauthlib-3.2.2-py3-none-any.whl (151 kB)\n",
            "     -------------------------------------- 151.7/151.7 kB 4.6 MB/s eta 0:00:00\n",
            "Installing collected packages: tensorboard-plugin-wit, libclang, flatbuffers, wrapt, termcolor, tensorflow-io-gcs-filesystem, tensorflow-estimator, tensorboard-data-server, pyasn1, protobuf, opt-einsum, oauthlib, keras, h5py, grpcio, google-pasta, gast, cachetools, astunparse, absl-py, rsa, requests-oauthlib, pyasn1-modules, markdown, google-auth, google-auth-oauthlib, tensorboard, tensorflow-intel, tensorflow\n",
            "Successfully installed absl-py-2.1.0 astunparse-1.6.3 cachetools-5.3.2 flatbuffers-23.5.26 gast-0.4.0 google-auth-2.27.0 google-auth-oauthlib-0.4.6 google-pasta-0.2.0 grpcio-1.60.1 h5py-3.8.0 keras-2.11.0 libclang-16.0.6 markdown-3.4.4 oauthlib-3.2.2 opt-einsum-3.3.0 protobuf-3.19.6 pyasn1-0.5.1 pyasn1-modules-0.3.0 requests-oauthlib-1.3.1 rsa-4.9 tensorboard-2.11.2 tensorboard-data-server-0.6.1 tensorboard-plugin-wit-1.8.1 tensorflow-2.11.0 tensorflow-estimator-2.11.0 tensorflow-intel-2.11.0 tensorflow-io-gcs-filesystem-0.31.0 termcolor-2.3.0 wrapt-1.16.0\n"
          ]
        }
      ],
      "source": [
        "!pip install tensorflow"
      ]
    },
    {
      "cell_type": "code",
      "execution_count": 7,
      "metadata": {
        "colab": {
          "base_uri": "https://localhost:8080/"
        },
        "id": "hNwkliUp_EWZ",
        "outputId": "edf0509d-3218-4273-a080-0374f6533125"
      },
      "outputs": [
        {
          "ename": "ImportError",
          "evalue": "cannot import name 'OrderedDict' from 'typing' (c:\\Users\\vishn\\anaconda3\\envs\\ENV1\\lib\\typing.py)",
          "output_type": "error",
          "traceback": [
            "\u001b[1;31m---------------------------------------------------------------------------\u001b[0m",
            "\u001b[1;31mImportError\u001b[0m                               Traceback (most recent call last)",
            "\u001b[1;32m~\\AppData\\Local\\Temp\\ipykernel_24284\\1771064629.py\u001b[0m in \u001b[0;36m<module>\u001b[1;34m\u001b[0m\n\u001b[0;32m      1\u001b[0m \u001b[1;32mimport\u001b[0m \u001b[0mnumpy\u001b[0m \u001b[1;32mas\u001b[0m \u001b[0mnp\u001b[0m\u001b[1;33m\u001b[0m\u001b[1;33m\u001b[0m\u001b[0m\n\u001b[0;32m      2\u001b[0m \u001b[1;32mimport\u001b[0m \u001b[0mpandas\u001b[0m \u001b[1;32mas\u001b[0m \u001b[0mpd\u001b[0m\u001b[1;33m\u001b[0m\u001b[1;33m\u001b[0m\u001b[0m\n\u001b[1;32m----> 3\u001b[1;33m \u001b[1;32mimport\u001b[0m \u001b[0mtensorflow\u001b[0m \u001b[1;32mas\u001b[0m \u001b[0mtf\u001b[0m\u001b[1;33m\u001b[0m\u001b[1;33m\u001b[0m\u001b[0m\n\u001b[0m\u001b[0;32m      4\u001b[0m \u001b[1;31m# from sklearn.model_selection import train_test_split\u001b[0m\u001b[1;33m\u001b[0m\u001b[1;33m\u001b[0m\u001b[1;33m\u001b[0m\u001b[0m\n\u001b[0;32m      5\u001b[0m \u001b[1;31m# from google.colab import drive\u001b[0m\u001b[1;33m\u001b[0m\u001b[1;33m\u001b[0m\u001b[1;33m\u001b[0m\u001b[0m\n",
            "\u001b[1;32mc:\\Users\\vishn\\anaconda3\\envs\\ENV1\\lib\\site-packages\\tensorflow\\__init__.py\u001b[0m in \u001b[0;36m<module>\u001b[1;34m\u001b[0m\n\u001b[0;32m     35\u001b[0m \u001b[1;32mimport\u001b[0m \u001b[0mtyping\u001b[0m \u001b[1;32mas\u001b[0m \u001b[0m_typing\u001b[0m\u001b[1;33m\u001b[0m\u001b[1;33m\u001b[0m\u001b[0m\n\u001b[0;32m     36\u001b[0m \u001b[1;33m\u001b[0m\u001b[0m\n\u001b[1;32m---> 37\u001b[1;33m \u001b[1;32mfrom\u001b[0m \u001b[0mtensorflow\u001b[0m\u001b[1;33m.\u001b[0m\u001b[0mpython\u001b[0m\u001b[1;33m.\u001b[0m\u001b[0mtools\u001b[0m \u001b[1;32mimport\u001b[0m \u001b[0mmodule_util\u001b[0m \u001b[1;32mas\u001b[0m \u001b[0m_module_util\u001b[0m\u001b[1;33m\u001b[0m\u001b[1;33m\u001b[0m\u001b[0m\n\u001b[0m\u001b[0;32m     38\u001b[0m \u001b[1;32mfrom\u001b[0m \u001b[0mtensorflow\u001b[0m\u001b[1;33m.\u001b[0m\u001b[0mpython\u001b[0m\u001b[1;33m.\u001b[0m\u001b[0mutil\u001b[0m\u001b[1;33m.\u001b[0m\u001b[0mlazy_loader\u001b[0m \u001b[1;32mimport\u001b[0m \u001b[0mLazyLoader\u001b[0m \u001b[1;32mas\u001b[0m \u001b[0m_LazyLoader\u001b[0m\u001b[1;33m\u001b[0m\u001b[1;33m\u001b[0m\u001b[0m\n\u001b[0;32m     39\u001b[0m \u001b[1;33m\u001b[0m\u001b[0m\n",
            "\u001b[1;32mc:\\Users\\vishn\\anaconda3\\envs\\ENV1\\lib\\site-packages\\tensorflow\\python\\__init__.py\u001b[0m in \u001b[0;36m<module>\u001b[1;34m\u001b[0m\n\u001b[0;32m     40\u001b[0m \u001b[1;33m\u001b[0m\u001b[0m\n\u001b[0;32m     41\u001b[0m \u001b[1;31m# Bring in subpackages.\u001b[0m\u001b[1;33m\u001b[0m\u001b[1;33m\u001b[0m\u001b[1;33m\u001b[0m\u001b[0m\n\u001b[1;32m---> 42\u001b[1;33m \u001b[1;32mfrom\u001b[0m \u001b[0mtensorflow\u001b[0m\u001b[1;33m.\u001b[0m\u001b[0mpython\u001b[0m \u001b[1;32mimport\u001b[0m \u001b[0mdata\u001b[0m\u001b[1;33m\u001b[0m\u001b[1;33m\u001b[0m\u001b[0m\n\u001b[0m\u001b[0;32m     43\u001b[0m \u001b[1;32mfrom\u001b[0m \u001b[0mtensorflow\u001b[0m\u001b[1;33m.\u001b[0m\u001b[0mpython\u001b[0m \u001b[1;32mimport\u001b[0m \u001b[0mdistribute\u001b[0m\u001b[1;33m\u001b[0m\u001b[1;33m\u001b[0m\u001b[0m\n\u001b[0;32m     44\u001b[0m \u001b[1;31m# from tensorflow.python import keras\u001b[0m\u001b[1;33m\u001b[0m\u001b[1;33m\u001b[0m\u001b[1;33m\u001b[0m\u001b[0m\n",
            "\u001b[1;32mc:\\Users\\vishn\\anaconda3\\envs\\ENV1\\lib\\site-packages\\tensorflow\\python\\data\\__init__.py\u001b[0m in \u001b[0;36m<module>\u001b[1;34m\u001b[0m\n\u001b[0;32m     19\u001b[0m \u001b[1;33m\u001b[0m\u001b[0m\n\u001b[0;32m     20\u001b[0m \u001b[1;31m# pylint: disable=unused-import\u001b[0m\u001b[1;33m\u001b[0m\u001b[1;33m\u001b[0m\u001b[1;33m\u001b[0m\u001b[0m\n\u001b[1;32m---> 21\u001b[1;33m \u001b[1;32mfrom\u001b[0m \u001b[0mtensorflow\u001b[0m\u001b[1;33m.\u001b[0m\u001b[0mpython\u001b[0m\u001b[1;33m.\u001b[0m\u001b[0mdata\u001b[0m \u001b[1;32mimport\u001b[0m \u001b[0mexperimental\u001b[0m\u001b[1;33m\u001b[0m\u001b[1;33m\u001b[0m\u001b[0m\n\u001b[0m\u001b[0;32m     22\u001b[0m \u001b[1;32mfrom\u001b[0m \u001b[0mtensorflow\u001b[0m\u001b[1;33m.\u001b[0m\u001b[0mpython\u001b[0m\u001b[1;33m.\u001b[0m\u001b[0mdata\u001b[0m\u001b[1;33m.\u001b[0m\u001b[0mops\u001b[0m\u001b[1;33m.\u001b[0m\u001b[0mdataset_ops\u001b[0m \u001b[1;32mimport\u001b[0m \u001b[0mAUTOTUNE\u001b[0m\u001b[1;33m\u001b[0m\u001b[1;33m\u001b[0m\u001b[0m\n\u001b[0;32m     23\u001b[0m \u001b[1;32mfrom\u001b[0m \u001b[0mtensorflow\u001b[0m\u001b[1;33m.\u001b[0m\u001b[0mpython\u001b[0m\u001b[1;33m.\u001b[0m\u001b[0mdata\u001b[0m\u001b[1;33m.\u001b[0m\u001b[0mops\u001b[0m\u001b[1;33m.\u001b[0m\u001b[0mdataset_ops\u001b[0m \u001b[1;32mimport\u001b[0m \u001b[0mDataset\u001b[0m\u001b[1;33m\u001b[0m\u001b[1;33m\u001b[0m\u001b[0m\n",
            "\u001b[1;32mc:\\Users\\vishn\\anaconda3\\envs\\ENV1\\lib\\site-packages\\tensorflow\\python\\data\\experimental\\__init__.py\u001b[0m in \u001b[0;36m<module>\u001b[1;34m\u001b[0m\n\u001b[0;32m     94\u001b[0m \u001b[1;33m\u001b[0m\u001b[0m\n\u001b[0;32m     95\u001b[0m \u001b[1;31m# pylint: disable=unused-import\u001b[0m\u001b[1;33m\u001b[0m\u001b[1;33m\u001b[0m\u001b[1;33m\u001b[0m\u001b[0m\n\u001b[1;32m---> 96\u001b[1;33m \u001b[1;32mfrom\u001b[0m \u001b[0mtensorflow\u001b[0m\u001b[1;33m.\u001b[0m\u001b[0mpython\u001b[0m\u001b[1;33m.\u001b[0m\u001b[0mdata\u001b[0m\u001b[1;33m.\u001b[0m\u001b[0mexperimental\u001b[0m \u001b[1;32mimport\u001b[0m \u001b[0mservice\u001b[0m\u001b[1;33m\u001b[0m\u001b[1;33m\u001b[0m\u001b[0m\n\u001b[0m\u001b[0;32m     97\u001b[0m \u001b[1;32mfrom\u001b[0m \u001b[0mtensorflow\u001b[0m\u001b[1;33m.\u001b[0m\u001b[0mpython\u001b[0m\u001b[1;33m.\u001b[0m\u001b[0mdata\u001b[0m\u001b[1;33m.\u001b[0m\u001b[0mexperimental\u001b[0m\u001b[1;33m.\u001b[0m\u001b[0mops\u001b[0m\u001b[1;33m.\u001b[0m\u001b[0mbatching\u001b[0m \u001b[1;32mimport\u001b[0m \u001b[0mdense_to_ragged_batch\u001b[0m\u001b[1;33m\u001b[0m\u001b[1;33m\u001b[0m\u001b[0m\n\u001b[0;32m     98\u001b[0m \u001b[1;32mfrom\u001b[0m \u001b[0mtensorflow\u001b[0m\u001b[1;33m.\u001b[0m\u001b[0mpython\u001b[0m\u001b[1;33m.\u001b[0m\u001b[0mdata\u001b[0m\u001b[1;33m.\u001b[0m\u001b[0mexperimental\u001b[0m\u001b[1;33m.\u001b[0m\u001b[0mops\u001b[0m\u001b[1;33m.\u001b[0m\u001b[0mbatching\u001b[0m \u001b[1;32mimport\u001b[0m \u001b[0mdense_to_sparse_batch\u001b[0m\u001b[1;33m\u001b[0m\u001b[1;33m\u001b[0m\u001b[0m\n",
            "\u001b[1;32mc:\\Users\\vishn\\anaconda3\\envs\\ENV1\\lib\\site-packages\\tensorflow\\python\\data\\experimental\\service\\__init__.py\u001b[0m in \u001b[0;36m<module>\u001b[1;34m\u001b[0m\n\u001b[0;32m    417\u001b[0m \"\"\"\n\u001b[0;32m    418\u001b[0m \u001b[1;33m\u001b[0m\u001b[0m\n\u001b[1;32m--> 419\u001b[1;33m \u001b[1;32mfrom\u001b[0m \u001b[0mtensorflow\u001b[0m\u001b[1;33m.\u001b[0m\u001b[0mpython\u001b[0m\u001b[1;33m.\u001b[0m\u001b[0mdata\u001b[0m\u001b[1;33m.\u001b[0m\u001b[0mexperimental\u001b[0m\u001b[1;33m.\u001b[0m\u001b[0mops\u001b[0m\u001b[1;33m.\u001b[0m\u001b[0mdata_service_ops\u001b[0m \u001b[1;32mimport\u001b[0m \u001b[0mdistribute\u001b[0m\u001b[1;33m\u001b[0m\u001b[1;33m\u001b[0m\u001b[0m\n\u001b[0m\u001b[0;32m    420\u001b[0m \u001b[1;32mfrom\u001b[0m \u001b[0mtensorflow\u001b[0m\u001b[1;33m.\u001b[0m\u001b[0mpython\u001b[0m\u001b[1;33m.\u001b[0m\u001b[0mdata\u001b[0m\u001b[1;33m.\u001b[0m\u001b[0mexperimental\u001b[0m\u001b[1;33m.\u001b[0m\u001b[0mops\u001b[0m\u001b[1;33m.\u001b[0m\u001b[0mdata_service_ops\u001b[0m \u001b[1;32mimport\u001b[0m \u001b[0mfrom_dataset_id\u001b[0m\u001b[1;33m\u001b[0m\u001b[1;33m\u001b[0m\u001b[0m\n\u001b[0;32m    421\u001b[0m \u001b[1;32mfrom\u001b[0m \u001b[0mtensorflow\u001b[0m\u001b[1;33m.\u001b[0m\u001b[0mpython\u001b[0m\u001b[1;33m.\u001b[0m\u001b[0mdata\u001b[0m\u001b[1;33m.\u001b[0m\u001b[0mexperimental\u001b[0m\u001b[1;33m.\u001b[0m\u001b[0mops\u001b[0m\u001b[1;33m.\u001b[0m\u001b[0mdata_service_ops\u001b[0m \u001b[1;32mimport\u001b[0m \u001b[0mregister_dataset\u001b[0m\u001b[1;33m\u001b[0m\u001b[1;33m\u001b[0m\u001b[0m\n",
            "\u001b[1;32mc:\\Users\\vishn\\anaconda3\\envs\\ENV1\\lib\\site-packages\\tensorflow\\python\\data\\experimental\\ops\\data_service_ops.py\u001b[0m in \u001b[0;36m<module>\u001b[1;34m\u001b[0m\n\u001b[0;32m     23\u001b[0m \u001b[1;32mfrom\u001b[0m \u001b[0mtensorflow\u001b[0m\u001b[1;33m.\u001b[0m\u001b[0mpython\u001b[0m\u001b[1;33m.\u001b[0m\u001b[0mdata\u001b[0m\u001b[1;33m.\u001b[0m\u001b[0mexperimental\u001b[0m\u001b[1;33m.\u001b[0m\u001b[0mservice\u001b[0m \u001b[1;32mimport\u001b[0m \u001b[0m_pywrap_server_lib\u001b[0m\u001b[1;33m\u001b[0m\u001b[1;33m\u001b[0m\u001b[0m\n\u001b[0;32m     24\u001b[0m \u001b[1;32mfrom\u001b[0m \u001b[0mtensorflow\u001b[0m\u001b[1;33m.\u001b[0m\u001b[0mpython\u001b[0m\u001b[1;33m.\u001b[0m\u001b[0mdata\u001b[0m\u001b[1;33m.\u001b[0m\u001b[0mexperimental\u001b[0m\u001b[1;33m.\u001b[0m\u001b[0mservice\u001b[0m \u001b[1;32mimport\u001b[0m \u001b[0m_pywrap_utils\u001b[0m\u001b[1;33m\u001b[0m\u001b[1;33m\u001b[0m\u001b[0m\n\u001b[1;32m---> 25\u001b[1;33m \u001b[1;32mfrom\u001b[0m \u001b[0mtensorflow\u001b[0m\u001b[1;33m.\u001b[0m\u001b[0mpython\u001b[0m\u001b[1;33m.\u001b[0m\u001b[0mdata\u001b[0m\u001b[1;33m.\u001b[0m\u001b[0mops\u001b[0m \u001b[1;32mimport\u001b[0m \u001b[0mdataset_ops\u001b[0m\u001b[1;33m\u001b[0m\u001b[1;33m\u001b[0m\u001b[0m\n\u001b[0m\u001b[0;32m     26\u001b[0m \u001b[1;32mfrom\u001b[0m \u001b[0mtensorflow\u001b[0m\u001b[1;33m.\u001b[0m\u001b[0mpython\u001b[0m\u001b[1;33m.\u001b[0m\u001b[0mdata\u001b[0m\u001b[1;33m.\u001b[0m\u001b[0mops\u001b[0m \u001b[1;32mimport\u001b[0m \u001b[0moptions\u001b[0m \u001b[1;32mas\u001b[0m \u001b[0moptions_lib\u001b[0m\u001b[1;33m\u001b[0m\u001b[1;33m\u001b[0m\u001b[0m\n\u001b[0;32m     27\u001b[0m \u001b[1;32mfrom\u001b[0m \u001b[0mtensorflow\u001b[0m\u001b[1;33m.\u001b[0m\u001b[0mpython\u001b[0m\u001b[1;33m.\u001b[0m\u001b[0mdata\u001b[0m\u001b[1;33m.\u001b[0m\u001b[0mops\u001b[0m \u001b[1;32mimport\u001b[0m \u001b[0mstructured_function\u001b[0m\u001b[1;33m\u001b[0m\u001b[1;33m\u001b[0m\u001b[0m\n",
            "\u001b[1;32mc:\\Users\\vishn\\anaconda3\\envs\\ENV1\\lib\\site-packages\\tensorflow\\python\\data\\ops\\dataset_ops.py\u001b[0m in \u001b[0;36m<module>\u001b[1;34m\u001b[0m\n\u001b[0;32m     27\u001b[0m \u001b[1;32mfrom\u001b[0m \u001b[0mtensorflow\u001b[0m\u001b[1;33m.\u001b[0m\u001b[0mcore\u001b[0m\u001b[1;33m.\u001b[0m\u001b[0mframework\u001b[0m \u001b[1;32mimport\u001b[0m \u001b[0mgraph_pb2\u001b[0m\u001b[1;33m\u001b[0m\u001b[1;33m\u001b[0m\u001b[0m\n\u001b[0;32m     28\u001b[0m \u001b[1;32mfrom\u001b[0m \u001b[0mtensorflow\u001b[0m\u001b[1;33m.\u001b[0m\u001b[0mpython\u001b[0m \u001b[1;32mimport\u001b[0m \u001b[0mtf2\u001b[0m\u001b[1;33m\u001b[0m\u001b[1;33m\u001b[0m\u001b[0m\n\u001b[1;32m---> 29\u001b[1;33m \u001b[1;32mfrom\u001b[0m \u001b[0mtensorflow\u001b[0m\u001b[1;33m.\u001b[0m\u001b[0mpython\u001b[0m\u001b[1;33m.\u001b[0m\u001b[0mdata\u001b[0m\u001b[1;33m.\u001b[0m\u001b[0mops\u001b[0m \u001b[1;32mimport\u001b[0m \u001b[0miterator_ops\u001b[0m\u001b[1;33m\u001b[0m\u001b[1;33m\u001b[0m\u001b[0m\n\u001b[0m\u001b[0;32m     30\u001b[0m \u001b[1;32mfrom\u001b[0m \u001b[0mtensorflow\u001b[0m\u001b[1;33m.\u001b[0m\u001b[0mpython\u001b[0m\u001b[1;33m.\u001b[0m\u001b[0mdata\u001b[0m\u001b[1;33m.\u001b[0m\u001b[0mops\u001b[0m \u001b[1;32mimport\u001b[0m \u001b[0moptions\u001b[0m \u001b[1;32mas\u001b[0m \u001b[0moptions_lib\u001b[0m\u001b[1;33m\u001b[0m\u001b[1;33m\u001b[0m\u001b[0m\n\u001b[0;32m     31\u001b[0m \u001b[1;32mfrom\u001b[0m \u001b[0mtensorflow\u001b[0m\u001b[1;33m.\u001b[0m\u001b[0mpython\u001b[0m\u001b[1;33m.\u001b[0m\u001b[0mdata\u001b[0m\u001b[1;33m.\u001b[0m\u001b[0mops\u001b[0m \u001b[1;32mimport\u001b[0m \u001b[0mstructured_function\u001b[0m\u001b[1;33m\u001b[0m\u001b[1;33m\u001b[0m\u001b[0m\n",
            "\u001b[1;32mc:\\Users\\vishn\\anaconda3\\envs\\ENV1\\lib\\site-packages\\tensorflow\\python\\data\\ops\\iterator_ops.py\u001b[0m in \u001b[0;36m<module>\u001b[1;34m\u001b[0m\n\u001b[0;32m     32\u001b[0m \u001b[1;32mfrom\u001b[0m \u001b[0mtensorflow\u001b[0m\u001b[1;33m.\u001b[0m\u001b[0mpython\u001b[0m\u001b[1;33m.\u001b[0m\u001b[0mops\u001b[0m \u001b[1;32mimport\u001b[0m \u001b[0mgen_dataset_ops\u001b[0m\u001b[1;33m\u001b[0m\u001b[1;33m\u001b[0m\u001b[0m\n\u001b[0;32m     33\u001b[0m \u001b[1;32mfrom\u001b[0m \u001b[0mtensorflow\u001b[0m\u001b[1;33m.\u001b[0m\u001b[0mpython\u001b[0m\u001b[1;33m.\u001b[0m\u001b[0mtrackable\u001b[0m \u001b[1;32mimport\u001b[0m \u001b[0mbase\u001b[0m \u001b[1;32mas\u001b[0m \u001b[0mtrackable\u001b[0m\u001b[1;33m\u001b[0m\u001b[1;33m\u001b[0m\u001b[0m\n\u001b[1;32m---> 34\u001b[1;33m \u001b[1;32mfrom\u001b[0m \u001b[0mtensorflow\u001b[0m\u001b[1;33m.\u001b[0m\u001b[0mpython\u001b[0m\u001b[1;33m.\u001b[0m\u001b[0mtraining\u001b[0m\u001b[1;33m.\u001b[0m\u001b[0msaver\u001b[0m \u001b[1;32mimport\u001b[0m \u001b[0mBaseSaverBuilder\u001b[0m\u001b[1;33m\u001b[0m\u001b[1;33m\u001b[0m\u001b[0m\n\u001b[0m\u001b[0;32m     35\u001b[0m \u001b[1;32mfrom\u001b[0m \u001b[0mtensorflow\u001b[0m\u001b[1;33m.\u001b[0m\u001b[0mpython\u001b[0m\u001b[1;33m.\u001b[0m\u001b[0mutil\u001b[0m \u001b[1;32mimport\u001b[0m \u001b[0m_pywrap_utils\u001b[0m\u001b[1;33m\u001b[0m\u001b[1;33m\u001b[0m\u001b[0m\n\u001b[0;32m     36\u001b[0m \u001b[1;32mfrom\u001b[0m \u001b[0mtensorflow\u001b[0m\u001b[1;33m.\u001b[0m\u001b[0mpython\u001b[0m\u001b[1;33m.\u001b[0m\u001b[0mutil\u001b[0m \u001b[1;32mimport\u001b[0m \u001b[0mdeprecation\u001b[0m\u001b[1;33m\u001b[0m\u001b[1;33m\u001b[0m\u001b[0m\n",
            "\u001b[1;32mc:\\Users\\vishn\\anaconda3\\envs\\ENV1\\lib\\site-packages\\tensorflow\\python\\training\\saver.py\u001b[0m in \u001b[0;36m<module>\u001b[1;34m\u001b[0m\n\u001b[0;32m     30\u001b[0m \u001b[1;32mfrom\u001b[0m \u001b[0mtensorflow\u001b[0m\u001b[1;33m.\u001b[0m\u001b[0mcore\u001b[0m\u001b[1;33m.\u001b[0m\u001b[0mprotobuf\u001b[0m \u001b[1;32mimport\u001b[0m \u001b[0msaver_pb2\u001b[0m\u001b[1;33m\u001b[0m\u001b[1;33m\u001b[0m\u001b[0m\n\u001b[0;32m     31\u001b[0m \u001b[1;32mfrom\u001b[0m \u001b[0mtensorflow\u001b[0m\u001b[1;33m.\u001b[0m\u001b[0mcore\u001b[0m\u001b[1;33m.\u001b[0m\u001b[0mprotobuf\u001b[0m \u001b[1;32mimport\u001b[0m \u001b[0mtrackable_object_graph_pb2\u001b[0m\u001b[1;33m\u001b[0m\u001b[1;33m\u001b[0m\u001b[0m\n\u001b[1;32m---> 32\u001b[1;33m \u001b[1;32mfrom\u001b[0m \u001b[0mtensorflow\u001b[0m\u001b[1;33m.\u001b[0m\u001b[0mpython\u001b[0m\u001b[1;33m.\u001b[0m\u001b[0mcheckpoint\u001b[0m \u001b[1;32mimport\u001b[0m \u001b[0mcheckpoint_management\u001b[0m\u001b[1;33m\u001b[0m\u001b[1;33m\u001b[0m\u001b[0m\n\u001b[0m\u001b[0;32m     33\u001b[0m \u001b[1;32mfrom\u001b[0m \u001b[0mtensorflow\u001b[0m\u001b[1;33m.\u001b[0m\u001b[0mpython\u001b[0m\u001b[1;33m.\u001b[0m\u001b[0mclient\u001b[0m \u001b[1;32mimport\u001b[0m \u001b[0msession\u001b[0m\u001b[1;33m\u001b[0m\u001b[1;33m\u001b[0m\u001b[0m\n\u001b[0;32m     34\u001b[0m \u001b[1;32mfrom\u001b[0m \u001b[0mtensorflow\u001b[0m\u001b[1;33m.\u001b[0m\u001b[0mpython\u001b[0m\u001b[1;33m.\u001b[0m\u001b[0meager\u001b[0m \u001b[1;32mimport\u001b[0m \u001b[0mcontext\u001b[0m\u001b[1;33m\u001b[0m\u001b[1;33m\u001b[0m\u001b[0m\n",
            "\u001b[1;32mc:\\Users\\vishn\\anaconda3\\envs\\ENV1\\lib\\site-packages\\tensorflow\\python\\checkpoint\\__init__.py\u001b[0m in \u001b[0;36m<module>\u001b[1;34m\u001b[0m\n\u001b[0;32m      1\u001b[0m \u001b[1;34m\"\"\"API defining checkpoint.\"\"\"\u001b[0m\u001b[1;33m\u001b[0m\u001b[1;33m\u001b[0m\u001b[0m\n\u001b[0;32m      2\u001b[0m \u001b[1;33m\u001b[0m\u001b[0m\n\u001b[1;32m----> 3\u001b[1;33m \u001b[1;32mfrom\u001b[0m \u001b[0mtensorflow\u001b[0m\u001b[1;33m.\u001b[0m\u001b[0mpython\u001b[0m\u001b[1;33m.\u001b[0m\u001b[0mcheckpoint\u001b[0m \u001b[1;32mimport\u001b[0m \u001b[0mcheckpoint_view\u001b[0m\u001b[1;33m\u001b[0m\u001b[1;33m\u001b[0m\u001b[0m\n\u001b[0m",
            "\u001b[1;32mc:\\Users\\vishn\\anaconda3\\envs\\ENV1\\lib\\site-packages\\tensorflow\\python\\checkpoint\\checkpoint_view.py\u001b[0m in \u001b[0;36m<module>\u001b[1;34m\u001b[0m\n\u001b[0;32m     17\u001b[0m \u001b[1;33m\u001b[0m\u001b[0m\n\u001b[0;32m     18\u001b[0m \u001b[1;32mfrom\u001b[0m \u001b[0mtensorflow\u001b[0m\u001b[1;33m.\u001b[0m\u001b[0mcore\u001b[0m\u001b[1;33m.\u001b[0m\u001b[0mprotobuf\u001b[0m \u001b[1;32mimport\u001b[0m \u001b[0mtrackable_object_graph_pb2\u001b[0m\u001b[1;33m\u001b[0m\u001b[1;33m\u001b[0m\u001b[0m\n\u001b[1;32m---> 19\u001b[1;33m \u001b[1;32mfrom\u001b[0m \u001b[0mtensorflow\u001b[0m\u001b[1;33m.\u001b[0m\u001b[0mpython\u001b[0m\u001b[1;33m.\u001b[0m\u001b[0mcheckpoint\u001b[0m \u001b[1;32mimport\u001b[0m \u001b[0mtrackable_view\u001b[0m\u001b[1;33m\u001b[0m\u001b[1;33m\u001b[0m\u001b[0m\n\u001b[0m\u001b[0;32m     20\u001b[0m \u001b[1;32mfrom\u001b[0m \u001b[0mtensorflow\u001b[0m\u001b[1;33m.\u001b[0m\u001b[0mpython\u001b[0m\u001b[1;33m.\u001b[0m\u001b[0mframework\u001b[0m \u001b[1;32mimport\u001b[0m \u001b[0merrors_impl\u001b[0m\u001b[1;33m\u001b[0m\u001b[1;33m\u001b[0m\u001b[0m\n\u001b[0;32m     21\u001b[0m \u001b[1;32mfrom\u001b[0m \u001b[0mtensorflow\u001b[0m\u001b[1;33m.\u001b[0m\u001b[0mpython\u001b[0m\u001b[1;33m.\u001b[0m\u001b[0mplatform\u001b[0m \u001b[1;32mimport\u001b[0m \u001b[0mtf_logging\u001b[0m \u001b[1;32mas\u001b[0m \u001b[0mlogging\u001b[0m\u001b[1;33m\u001b[0m\u001b[1;33m\u001b[0m\u001b[0m\n",
            "\u001b[1;32mc:\\Users\\vishn\\anaconda3\\envs\\ENV1\\lib\\site-packages\\tensorflow\\python\\checkpoint\\trackable_view.py\u001b[0m in \u001b[0;36m<module>\u001b[1;34m\u001b[0m\n\u001b[0;32m     18\u001b[0m \u001b[1;33m\u001b[0m\u001b[0m\n\u001b[0;32m     19\u001b[0m \u001b[1;32mfrom\u001b[0m \u001b[0mtensorflow\u001b[0m\u001b[1;33m.\u001b[0m\u001b[0mpython\u001b[0m\u001b[1;33m.\u001b[0m\u001b[0mtrackable\u001b[0m \u001b[1;32mimport\u001b[0m \u001b[0mbase\u001b[0m\u001b[1;33m\u001b[0m\u001b[1;33m\u001b[0m\u001b[0m\n\u001b[1;32m---> 20\u001b[1;33m \u001b[1;32mfrom\u001b[0m \u001b[0mtensorflow\u001b[0m\u001b[1;33m.\u001b[0m\u001b[0mpython\u001b[0m\u001b[1;33m.\u001b[0m\u001b[0mtrackable\u001b[0m \u001b[1;32mimport\u001b[0m \u001b[0mconverter\u001b[0m\u001b[1;33m\u001b[0m\u001b[1;33m\u001b[0m\u001b[0m\n\u001b[0m\u001b[0;32m     21\u001b[0m \u001b[1;32mfrom\u001b[0m \u001b[0mtensorflow\u001b[0m\u001b[1;33m.\u001b[0m\u001b[0mpython\u001b[0m\u001b[1;33m.\u001b[0m\u001b[0mutil\u001b[0m \u001b[1;32mimport\u001b[0m \u001b[0mobject_identity\u001b[0m\u001b[1;33m\u001b[0m\u001b[1;33m\u001b[0m\u001b[0m\n\u001b[0;32m     22\u001b[0m \u001b[1;32mfrom\u001b[0m \u001b[0mtensorflow\u001b[0m\u001b[1;33m.\u001b[0m\u001b[0mpython\u001b[0m\u001b[1;33m.\u001b[0m\u001b[0mutil\u001b[0m\u001b[1;33m.\u001b[0m\u001b[0mtf_export\u001b[0m \u001b[1;32mimport\u001b[0m \u001b[0mtf_export\u001b[0m\u001b[1;33m\u001b[0m\u001b[1;33m\u001b[0m\u001b[0m\n",
            "\u001b[1;32mc:\\Users\\vishn\\anaconda3\\envs\\ENV1\\lib\\site-packages\\tensorflow\\python\\trackable\\converter.py\u001b[0m in \u001b[0;36m<module>\u001b[1;34m\u001b[0m\n\u001b[0;32m     16\u001b[0m \u001b[1;33m\u001b[0m\u001b[0m\n\u001b[0;32m     17\u001b[0m \u001b[1;33m\u001b[0m\u001b[0m\n\u001b[1;32m---> 18\u001b[1;33m \u001b[1;32mfrom\u001b[0m \u001b[0mtensorflow\u001b[0m\u001b[1;33m.\u001b[0m\u001b[0mpython\u001b[0m\u001b[1;33m.\u001b[0m\u001b[0meager\u001b[0m\u001b[1;33m.\u001b[0m\u001b[0mpolymorphic_function\u001b[0m \u001b[1;32mimport\u001b[0m \u001b[0msaved_model_utils\u001b[0m\u001b[1;33m\u001b[0m\u001b[1;33m\u001b[0m\u001b[0m\n\u001b[0m\u001b[0;32m     19\u001b[0m \u001b[1;32mfrom\u001b[0m \u001b[0mtensorflow\u001b[0m\u001b[1;33m.\u001b[0m\u001b[0mpython\u001b[0m\u001b[1;33m.\u001b[0m\u001b[0mframework\u001b[0m \u001b[1;32mimport\u001b[0m \u001b[0mdtypes\u001b[0m\u001b[1;33m\u001b[0m\u001b[1;33m\u001b[0m\u001b[0m\n\u001b[0;32m     20\u001b[0m \u001b[1;32mfrom\u001b[0m \u001b[0mtensorflow\u001b[0m\u001b[1;33m.\u001b[0m\u001b[0mpython\u001b[0m\u001b[1;33m.\u001b[0m\u001b[0mframework\u001b[0m \u001b[1;32mimport\u001b[0m \u001b[0mtensor_util\u001b[0m\u001b[1;33m\u001b[0m\u001b[1;33m\u001b[0m\u001b[0m\n",
            "\u001b[1;32mc:\\Users\\vishn\\anaconda3\\envs\\ENV1\\lib\\site-packages\\tensorflow\\python\\eager\\polymorphic_function\\saved_model_utils.py\u001b[0m in \u001b[0;36m<module>\u001b[1;34m\u001b[0m\n\u001b[0;32m     34\u001b[0m \u001b[1;32mfrom\u001b[0m \u001b[0mtensorflow\u001b[0m\u001b[1;33m.\u001b[0m\u001b[0mpython\u001b[0m\u001b[1;33m.\u001b[0m\u001b[0mtrackable\u001b[0m \u001b[1;32mimport\u001b[0m \u001b[0masset\u001b[0m\u001b[1;33m\u001b[0m\u001b[1;33m\u001b[0m\u001b[0m\n\u001b[0;32m     35\u001b[0m \u001b[1;32mfrom\u001b[0m \u001b[0mtensorflow\u001b[0m\u001b[1;33m.\u001b[0m\u001b[0mpython\u001b[0m\u001b[1;33m.\u001b[0m\u001b[0mtrackable\u001b[0m \u001b[1;32mimport\u001b[0m \u001b[0mbase\u001b[0m \u001b[1;32mas\u001b[0m \u001b[0mtrackable\u001b[0m\u001b[1;33m\u001b[0m\u001b[1;33m\u001b[0m\u001b[0m\n\u001b[1;32m---> 36\u001b[1;33m \u001b[1;32mfrom\u001b[0m \u001b[0mtensorflow\u001b[0m\u001b[1;33m.\u001b[0m\u001b[0mpython\u001b[0m\u001b[1;33m.\u001b[0m\u001b[0mtrackable\u001b[0m \u001b[1;32mimport\u001b[0m \u001b[0mresource\u001b[0m\u001b[1;33m\u001b[0m\u001b[1;33m\u001b[0m\u001b[0m\n\u001b[0m\u001b[0;32m     37\u001b[0m \u001b[1;33m\u001b[0m\u001b[0m\n\u001b[0;32m     38\u001b[0m \u001b[1;33m\u001b[0m\u001b[0m\n",
            "\u001b[1;32mc:\\Users\\vishn\\anaconda3\\envs\\ENV1\\lib\\site-packages\\tensorflow\\python\\trackable\\resource.py\u001b[0m in \u001b[0;36m<module>\u001b[1;34m\u001b[0m\n\u001b[0;32m     20\u001b[0m \u001b[1;33m\u001b[0m\u001b[0m\n\u001b[0;32m     21\u001b[0m \u001b[1;32mfrom\u001b[0m \u001b[0mtensorflow\u001b[0m\u001b[1;33m.\u001b[0m\u001b[0mpython\u001b[0m\u001b[1;33m.\u001b[0m\u001b[0meager\u001b[0m \u001b[1;32mimport\u001b[0m \u001b[0mcontext\u001b[0m\u001b[1;33m\u001b[0m\u001b[1;33m\u001b[0m\u001b[0m\n\u001b[1;32m---> 22\u001b[1;33m \u001b[1;32mfrom\u001b[0m \u001b[0mtensorflow\u001b[0m\u001b[1;33m.\u001b[0m\u001b[0mpython\u001b[0m\u001b[1;33m.\u001b[0m\u001b[0meager\u001b[0m \u001b[1;32mimport\u001b[0m \u001b[0mdef_function\u001b[0m\u001b[1;33m\u001b[0m\u001b[1;33m\u001b[0m\u001b[0m\n\u001b[0m\u001b[0;32m     23\u001b[0m \u001b[1;32mfrom\u001b[0m \u001b[0mtensorflow\u001b[0m\u001b[1;33m.\u001b[0m\u001b[0mpython\u001b[0m\u001b[1;33m.\u001b[0m\u001b[0mframework\u001b[0m \u001b[1;32mimport\u001b[0m \u001b[0mops\u001b[0m\u001b[1;33m\u001b[0m\u001b[1;33m\u001b[0m\u001b[0m\n\u001b[0;32m     24\u001b[0m \u001b[1;32mfrom\u001b[0m \u001b[0mtensorflow\u001b[0m\u001b[1;33m.\u001b[0m\u001b[0mpython\u001b[0m\u001b[1;33m.\u001b[0m\u001b[0mtrackable\u001b[0m \u001b[1;32mimport\u001b[0m \u001b[0mbase\u001b[0m\u001b[1;33m\u001b[0m\u001b[1;33m\u001b[0m\u001b[0m\n",
            "\u001b[1;32mc:\\Users\\vishn\\anaconda3\\envs\\ENV1\\lib\\site-packages\\tensorflow\\python\\eager\\def_function.py\u001b[0m in \u001b[0;36m<module>\u001b[1;34m\u001b[0m\n\u001b[0;32m     18\u001b[0m \u001b[1;33m\u001b[0m\u001b[0m\n\u001b[0;32m     19\u001b[0m \u001b[1;31m# Config Options\u001b[0m\u001b[1;33m\u001b[0m\u001b[1;33m\u001b[0m\u001b[1;33m\u001b[0m\u001b[0m\n\u001b[1;32m---> 20\u001b[1;33m \u001b[1;32mfrom\u001b[0m \u001b[0mtensorflow\u001b[0m\u001b[1;33m.\u001b[0m\u001b[0mpython\u001b[0m\u001b[1;33m.\u001b[0m\u001b[0meager\u001b[0m\u001b[1;33m.\u001b[0m\u001b[0mpolymorphic_function\u001b[0m\u001b[1;33m.\u001b[0m\u001b[0mpolymorphic_function\u001b[0m \u001b[1;32mimport\u001b[0m \u001b[0mset_dynamic_variable_creation\u001b[0m\u001b[1;33m\u001b[0m\u001b[1;33m\u001b[0m\u001b[0m\n\u001b[0m\u001b[0;32m     21\u001b[0m \u001b[1;32mfrom\u001b[0m \u001b[0mtensorflow\u001b[0m\u001b[1;33m.\u001b[0m\u001b[0mpython\u001b[0m\u001b[1;33m.\u001b[0m\u001b[0meager\u001b[0m\u001b[1;33m.\u001b[0m\u001b[0mpolymorphic_function\u001b[0m\u001b[1;33m.\u001b[0m\u001b[0mpolymorphic_function\u001b[0m \u001b[1;32mimport\u001b[0m \u001b[0mrun_functions_eagerly\u001b[0m\u001b[1;33m\u001b[0m\u001b[1;33m\u001b[0m\u001b[0m\n\u001b[0;32m     22\u001b[0m \u001b[1;32mfrom\u001b[0m \u001b[0mtensorflow\u001b[0m\u001b[1;33m.\u001b[0m\u001b[0mpython\u001b[0m\u001b[1;33m.\u001b[0m\u001b[0meager\u001b[0m\u001b[1;33m.\u001b[0m\u001b[0mpolymorphic_function\u001b[0m\u001b[1;33m.\u001b[0m\u001b[0mpolymorphic_function\u001b[0m \u001b[1;32mimport\u001b[0m \u001b[0mfunctions_run_eagerly\u001b[0m\u001b[1;33m\u001b[0m\u001b[1;33m\u001b[0m\u001b[0m\n",
            "\u001b[1;32mc:\\Users\\vishn\\anaconda3\\envs\\ENV1\\lib\\site-packages\\tensorflow\\python\\eager\\polymorphic_function\\polymorphic_function.py\u001b[0m in \u001b[0;36m<module>\u001b[1;34m\u001b[0m\n\u001b[0;32m     74\u001b[0m \u001b[1;32mfrom\u001b[0m \u001b[0mtensorflow\u001b[0m\u001b[1;33m.\u001b[0m\u001b[0mpython\u001b[0m\u001b[1;33m.\u001b[0m\u001b[0meager\u001b[0m \u001b[1;32mimport\u001b[0m \u001b[0mlift_to_graph\u001b[0m\u001b[1;33m\u001b[0m\u001b[1;33m\u001b[0m\u001b[0m\n\u001b[0;32m     75\u001b[0m \u001b[1;32mfrom\u001b[0m \u001b[0mtensorflow\u001b[0m\u001b[1;33m.\u001b[0m\u001b[0mpython\u001b[0m\u001b[1;33m.\u001b[0m\u001b[0meager\u001b[0m \u001b[1;32mimport\u001b[0m \u001b[0mmonitoring\u001b[0m\u001b[1;33m\u001b[0m\u001b[1;33m\u001b[0m\u001b[0m\n\u001b[1;32m---> 76\u001b[1;33m \u001b[1;32mfrom\u001b[0m \u001b[0mtensorflow\u001b[0m\u001b[1;33m.\u001b[0m\u001b[0mpython\u001b[0m\u001b[1;33m.\u001b[0m\u001b[0meager\u001b[0m\u001b[1;33m.\u001b[0m\u001b[0mpolymorphic_function\u001b[0m \u001b[1;32mimport\u001b[0m \u001b[0mfunction_spec\u001b[0m \u001b[1;32mas\u001b[0m \u001b[0mfunction_spec_lib\u001b[0m\u001b[1;33m\u001b[0m\u001b[1;33m\u001b[0m\u001b[0m\n\u001b[0m\u001b[0;32m     77\u001b[0m \u001b[1;32mfrom\u001b[0m \u001b[0mtensorflow\u001b[0m\u001b[1;33m.\u001b[0m\u001b[0mpython\u001b[0m\u001b[1;33m.\u001b[0m\u001b[0meager\u001b[0m\u001b[1;33m.\u001b[0m\u001b[0mpolymorphic_function\u001b[0m \u001b[1;32mimport\u001b[0m \u001b[0mmonomorphic_function\u001b[0m\u001b[1;33m\u001b[0m\u001b[1;33m\u001b[0m\u001b[0m\n\u001b[0;32m     78\u001b[0m \u001b[1;32mfrom\u001b[0m \u001b[0mtensorflow\u001b[0m\u001b[1;33m.\u001b[0m\u001b[0mpython\u001b[0m\u001b[1;33m.\u001b[0m\u001b[0meager\u001b[0m\u001b[1;33m.\u001b[0m\u001b[0mpolymorphic_function\u001b[0m \u001b[1;32mimport\u001b[0m \u001b[0mtracing_compiler\u001b[0m\u001b[1;33m\u001b[0m\u001b[1;33m\u001b[0m\u001b[0m\n",
            "\u001b[1;32mc:\\Users\\vishn\\anaconda3\\envs\\ENV1\\lib\\site-packages\\tensorflow\\python\\eager\\polymorphic_function\\function_spec.py\u001b[0m in \u001b[0;36m<module>\u001b[1;34m\u001b[0m\n\u001b[0;32m     23\u001b[0m \u001b[1;33m\u001b[0m\u001b[0m\n\u001b[0;32m     24\u001b[0m \u001b[1;32mfrom\u001b[0m \u001b[0mtensorflow\u001b[0m\u001b[1;33m.\u001b[0m\u001b[0mcore\u001b[0m\u001b[1;33m.\u001b[0m\u001b[0mfunction\u001b[0m \u001b[1;32mimport\u001b[0m \u001b[0mtrace_type\u001b[0m\u001b[1;33m\u001b[0m\u001b[1;33m\u001b[0m\u001b[0m\n\u001b[1;32m---> 25\u001b[1;33m \u001b[1;32mfrom\u001b[0m \u001b[0mtensorflow\u001b[0m\u001b[1;33m.\u001b[0m\u001b[0mcore\u001b[0m\u001b[1;33m.\u001b[0m\u001b[0mfunction\u001b[0m\u001b[1;33m.\u001b[0m\u001b[0mpolymorphism\u001b[0m \u001b[1;32mimport\u001b[0m \u001b[0mfunction_type\u001b[0m \u001b[1;32mas\u001b[0m \u001b[0mfunction_type_lib\u001b[0m\u001b[1;33m\u001b[0m\u001b[1;33m\u001b[0m\u001b[0m\n\u001b[0m\u001b[0;32m     26\u001b[0m \u001b[1;32mfrom\u001b[0m \u001b[0mtensorflow\u001b[0m\u001b[1;33m.\u001b[0m\u001b[0mpython\u001b[0m\u001b[1;33m.\u001b[0m\u001b[0meager\u001b[0m\u001b[1;33m.\u001b[0m\u001b[0mpolymorphic_function\u001b[0m \u001b[1;32mimport\u001b[0m \u001b[0mcomposite_tensor_utils\u001b[0m\u001b[1;33m\u001b[0m\u001b[1;33m\u001b[0m\u001b[0m\n\u001b[0;32m     27\u001b[0m \u001b[1;32mfrom\u001b[0m \u001b[0mtensorflow\u001b[0m\u001b[1;33m.\u001b[0m\u001b[0mpython\u001b[0m\u001b[1;33m.\u001b[0m\u001b[0mframework\u001b[0m \u001b[1;32mimport\u001b[0m \u001b[0mcomposite_tensor\u001b[0m\u001b[1;33m\u001b[0m\u001b[1;33m\u001b[0m\u001b[0m\n",
            "\u001b[1;32mc:\\Users\\vishn\\anaconda3\\envs\\ENV1\\lib\\site-packages\\tensorflow\\core\\function\\polymorphism\\function_type.py\u001b[0m in \u001b[0;36m<module>\u001b[1;34m\u001b[0m\n\u001b[0;32m     17\u001b[0m \u001b[1;32mimport\u001b[0m \u001b[0mcollections\u001b[0m\u001b[1;33m\u001b[0m\u001b[1;33m\u001b[0m\u001b[0m\n\u001b[0;32m     18\u001b[0m \u001b[1;32mimport\u001b[0m \u001b[0minspect\u001b[0m\u001b[1;33m\u001b[0m\u001b[1;33m\u001b[0m\u001b[0m\n\u001b[1;32m---> 19\u001b[1;33m \u001b[1;32mfrom\u001b[0m \u001b[0mtyping\u001b[0m \u001b[1;32mimport\u001b[0m \u001b[0mAny\u001b[0m\u001b[1;33m,\u001b[0m \u001b[0mCallable\u001b[0m\u001b[1;33m,\u001b[0m \u001b[0mDict\u001b[0m\u001b[1;33m,\u001b[0m \u001b[0mMapping\u001b[0m\u001b[1;33m,\u001b[0m \u001b[0mOptional\u001b[0m\u001b[1;33m,\u001b[0m \u001b[0mSequence\u001b[0m\u001b[1;33m,\u001b[0m \u001b[0mTuple\u001b[0m\u001b[1;33m,\u001b[0m \u001b[0mOrderedDict\u001b[0m\u001b[1;33m\u001b[0m\u001b[1;33m\u001b[0m\u001b[0m\n\u001b[0m\u001b[0;32m     20\u001b[0m \u001b[1;33m\u001b[0m\u001b[0m\n\u001b[0;32m     21\u001b[0m \u001b[1;32mfrom\u001b[0m \u001b[0mtensorflow\u001b[0m\u001b[1;33m.\u001b[0m\u001b[0mcore\u001b[0m\u001b[1;33m.\u001b[0m\u001b[0mfunction\u001b[0m \u001b[1;32mimport\u001b[0m \u001b[0mtrace_type\u001b[0m\u001b[1;33m\u001b[0m\u001b[1;33m\u001b[0m\u001b[0m\n",
            "\u001b[1;31mImportError\u001b[0m: cannot import name 'OrderedDict' from 'typing' (c:\\Users\\vishn\\anaconda3\\envs\\ENV1\\lib\\typing.py)"
          ]
        }
      ],
      "source": [
        "import numpy as np\n",
        "import pandas as pd\n",
        "import tensorflow as tf\n",
        "from sklearn.model_selection import train_test_split\n",
        "from google.colab import drive\n",
        "from tensorflow.keras import Sequential\n",
        "from tensorflow.keras.layers import Conv2D, Dense, MaxPooling2D, Flatten\n",
        "from sklearn.preprocessing import MinMaxScaler, LabelEncoder\n",
        "import os\n",
        "# drive.mount('/content/drive')"
      ]
    },
    {
      "cell_type": "code",
      "execution_count": 5,
      "metadata": {
        "colab": {
          "base_uri": "https://localhost:8080/"
        },
        "id": "1XWdtwPewXY7",
        "outputId": "2724fd76-084a-416a-8df6-1305554e1a38"
      },
      "outputs": [
        {
          "ename": "NameError",
          "evalue": "name 'tf' is not defined",
          "output_type": "error",
          "traceback": [
            "\u001b[1;31m---------------------------------------------------------------------------\u001b[0m",
            "\u001b[1;31mNameError\u001b[0m                                 Traceback (most recent call last)",
            "\u001b[1;32m~\\AppData\\Local\\Temp\\ipykernel_24284\\727389935.py\u001b[0m in \u001b[0;36m<module>\u001b[1;34m\u001b[0m\n\u001b[1;32m----> 1\u001b[1;33m \u001b[0mprint\u001b[0m\u001b[1;33m(\u001b[0m\u001b[1;34m\"TensorFlow version:\"\u001b[0m\u001b[1;33m,\u001b[0m \u001b[0mtf\u001b[0m\u001b[1;33m.\u001b[0m\u001b[0m__version__\u001b[0m\u001b[1;33m)\u001b[0m\u001b[1;33m\u001b[0m\u001b[1;33m\u001b[0m\u001b[0m\n\u001b[0m",
            "\u001b[1;31mNameError\u001b[0m: name 'tf' is not defined"
          ]
        }
      ],
      "source": [
        "print(\"TensorFlow version:\", tf.__version__)"
      ]
    },
    {
      "cell_type": "code",
      "execution_count": 4,
      "metadata": {
        "id": "w5HGrRzT-izR"
      },
      "outputs": [],
      "source": [
        "def preprocess_data(file_path):\n",
        "  scaler = MinMaxScaler()\n",
        "  data_frame = pd.read_csv(file_path).iloc[:, :-1]\n",
        "  scaled_data = scaler.fit_transform(data_frame)\n",
        "  return scaled_data\n",
        "\n",
        "def read_path(path):\n",
        "  data = []\n",
        "  for file in os.listdir(path):\n",
        "    d = preprocess_data(os.path.join(path, file))\n",
        "    if d.shape[0] >= 30:\n",
        "      data.append(np.array(d[:30]))\n",
        "  return data\n",
        "\n",
        "all_data = []\n",
        "all_labels = []\n",
        "for i in range(1, 4):\n",
        "  curr_data = read_path(f'/content/drive/MyDrive/data/Gesture-{i}')\n",
        "  all_data.extend(curr_data)\n",
        "  all_labels.extend([f'gesture{i}' for _ in range(len(curr_data))])\n",
        "\n",
        "X = np.array(all_data)\n",
        "y = np.array(all_labels)\n",
        "X = X.reshape((*X.shape, 1))"
      ]
    },
    {
      "cell_type": "code",
      "execution_count": 5,
      "metadata": {
        "colab": {
          "base_uri": "https://localhost:8080/"
        },
        "id": "9nLDuBHN_jnp",
        "outputId": "2694565b-d646-4ce5-fd58-ff9f11692113"
      },
      "outputs": [
        {
          "name": "stdout",
          "output_type": "stream",
          "text": [
            "Epoch 1/50\n",
            "1/2 [==============>...............] - ETA: 0s - loss: 1.0771 - accuracy: 0.5625\n",
            "Epoch 1: saving model to ml_model.ckpt\n",
            "2/2 [==============================] - 2s 624ms/step - loss: 1.0630 - accuracy: 0.4915 - val_loss: 1.0870 - val_accuracy: 0.2727\n",
            "Epoch 2/50\n",
            "1/2 [==============>...............] - ETA: 0s - loss: 1.0725 - accuracy: 0.3750\n",
            "Epoch 2: saving model to ml_model.ckpt\n",
            "2/2 [==============================] - 0s 130ms/step - loss: 0.9763 - accuracy: 0.4407 - val_loss: 1.1045 - val_accuracy: 0.2727\n",
            "Epoch 3/50\n",
            "1/2 [==============>...............] - ETA: 0s - loss: 0.9810 - accuracy: 0.4062\n",
            "Epoch 3: saving model to ml_model.ckpt\n",
            "2/2 [==============================] - 0s 72ms/step - loss: 0.9226 - accuracy: 0.5424 - val_loss: 1.0438 - val_accuracy: 0.7273\n",
            "Epoch 4/50\n",
            "1/2 [==============>...............] - ETA: 0s - loss: 0.7790 - accuracy: 0.8750\n",
            "Epoch 4: saving model to ml_model.ckpt\n",
            "2/2 [==============================] - 0s 89ms/step - loss: 0.8709 - accuracy: 0.7458 - val_loss: 1.0111 - val_accuracy: 0.6364\n",
            "Epoch 5/50\n",
            "1/2 [==============>...............] - ETA: 0s - loss: 0.7824 - accuracy: 0.7188\n",
            "Epoch 5: saving model to ml_model.ckpt\n",
            "2/2 [==============================] - 0s 88ms/step - loss: 0.8137 - accuracy: 0.6949 - val_loss: 0.9889 - val_accuracy: 0.6364\n",
            "Epoch 6/50\n",
            "1/2 [==============>...............] - ETA: 0s - loss: 0.7215 - accuracy: 0.7188\n",
            "Epoch 6: saving model to ml_model.ckpt\n",
            "2/2 [==============================] - 0s 241ms/step - loss: 0.7651 - accuracy: 0.7966 - val_loss: 0.9571 - val_accuracy: 0.8182\n",
            "Epoch 7/50\n",
            "1/2 [==============>...............] - ETA: 0s - loss: 0.7514 - accuracy: 0.9062\n",
            "Epoch 7: saving model to ml_model.ckpt\n",
            "2/2 [==============================] - 0s 267ms/step - loss: 0.7151 - accuracy: 0.9153 - val_loss: 0.9073 - val_accuracy: 0.8182\n",
            "Epoch 8/50\n",
            "1/2 [==============>...............] - ETA: 0s - loss: 0.7255 - accuracy: 0.8750\n",
            "Epoch 8: saving model to ml_model.ckpt\n",
            "2/2 [==============================] - 0s 74ms/step - loss: 0.6610 - accuracy: 0.9153 - val_loss: 0.8483 - val_accuracy: 0.7273\n",
            "Epoch 9/50\n",
            "1/2 [==============>...............] - ETA: 0s - loss: 0.6994 - accuracy: 0.9062\n",
            "Epoch 9: saving model to ml_model.ckpt\n",
            "2/2 [==============================] - 0s 46ms/step - loss: 0.6078 - accuracy: 0.9153 - val_loss: 0.7856 - val_accuracy: 0.7273\n",
            "Epoch 10/50\n",
            "1/2 [==============>...............] - ETA: 0s - loss: 0.5941 - accuracy: 0.8750\n",
            "Epoch 10: saving model to ml_model.ckpt\n",
            "2/2 [==============================] - 0s 46ms/step - loss: 0.5577 - accuracy: 0.9153 - val_loss: 0.7293 - val_accuracy: 0.7273\n",
            "Epoch 11/50\n",
            "1/2 [==============>...............] - ETA: 0s - loss: 0.5734 - accuracy: 0.9062\n",
            "Epoch 11: saving model to ml_model.ckpt\n",
            "2/2 [==============================] - 0s 58ms/step - loss: 0.5026 - accuracy: 0.9322 - val_loss: 0.6812 - val_accuracy: 0.8182\n",
            "Epoch 12/50\n",
            "1/2 [==============>...............] - ETA: 0s - loss: 0.4263 - accuracy: 1.0000\n",
            "Epoch 12: saving model to ml_model.ckpt\n",
            "2/2 [==============================] - 0s 49ms/step - loss: 0.4546 - accuracy: 0.9322 - val_loss: 0.6448 - val_accuracy: 0.8182\n",
            "Epoch 13/50\n",
            "1/2 [==============>...............] - ETA: 0s - loss: 0.4322 - accuracy: 0.9062\n",
            "Epoch 13: saving model to ml_model.ckpt\n",
            "2/2 [==============================] - 0s 49ms/step - loss: 0.4182 - accuracy: 0.9492 - val_loss: 0.5879 - val_accuracy: 0.7273\n",
            "Epoch 14/50\n",
            "1/2 [==============>...............] - ETA: 0s - loss: 0.3955 - accuracy: 0.9688\n",
            "Epoch 14: saving model to ml_model.ckpt\n",
            "2/2 [==============================] - 0s 46ms/step - loss: 0.3693 - accuracy: 0.9492 - val_loss: 0.5677 - val_accuracy: 0.8182\n",
            "Epoch 15/50\n",
            "1/2 [==============>...............] - ETA: 0s - loss: 0.2998 - accuracy: 0.9375\n",
            "Epoch 15: saving model to ml_model.ckpt\n",
            "2/2 [==============================] - 0s 52ms/step - loss: 0.3335 - accuracy: 0.9492 - val_loss: 0.5293 - val_accuracy: 0.8182\n",
            "Epoch 16/50\n",
            "1/2 [==============>...............] - ETA: 0s - loss: 0.2882 - accuracy: 0.9688\n",
            "Epoch 16: saving model to ml_model.ckpt\n",
            "2/2 [==============================] - 0s 60ms/step - loss: 0.2974 - accuracy: 0.9661 - val_loss: 0.5025 - val_accuracy: 0.8182\n",
            "Epoch 17/50\n",
            "1/2 [==============>...............] - ETA: 0s - loss: 0.3030 - accuracy: 0.9688\n",
            "Epoch 17: saving model to ml_model.ckpt\n",
            "2/2 [==============================] - 0s 85ms/step - loss: 0.2672 - accuracy: 0.9831 - val_loss: 0.4912 - val_accuracy: 0.8182\n",
            "Epoch 18/50\n",
            "1/2 [==============>...............] - ETA: 0s - loss: 0.2677 - accuracy: 0.9688\n",
            "Epoch 18: saving model to ml_model.ckpt\n",
            "2/2 [==============================] - 0s 143ms/step - loss: 0.2395 - accuracy: 0.9831 - val_loss: 0.4854 - val_accuracy: 0.8182\n",
            "Epoch 19/50\n",
            "1/2 [==============>...............] - ETA: 0s - loss: 0.2346 - accuracy: 1.0000\n",
            "Epoch 19: saving model to ml_model.ckpt\n",
            "2/2 [==============================] - 0s 86ms/step - loss: 0.2151 - accuracy: 0.9831 - val_loss: 0.4653 - val_accuracy: 0.8182\n",
            "Epoch 20/50\n",
            "1/2 [==============>...............] - ETA: 0s - loss: 0.1836 - accuracy: 1.0000\n",
            "Epoch 20: saving model to ml_model.ckpt\n",
            "2/2 [==============================] - 0s 54ms/step - loss: 0.1885 - accuracy: 0.9831 - val_loss: 0.4519 - val_accuracy: 0.7273\n",
            "Epoch 21/50\n",
            "1/2 [==============>...............] - ETA: 0s - loss: 0.1904 - accuracy: 0.9688\n",
            "Epoch 21: saving model to ml_model.ckpt\n",
            "2/2 [==============================] - 0s 49ms/step - loss: 0.1692 - accuracy: 0.9831 - val_loss: 0.4527 - val_accuracy: 0.7273\n",
            "Epoch 22/50\n",
            "1/2 [==============>...............] - ETA: 0s - loss: 0.1378 - accuracy: 1.0000\n",
            "Epoch 22: saving model to ml_model.ckpt\n",
            "2/2 [==============================] - 0s 48ms/step - loss: 0.1496 - accuracy: 0.9831 - val_loss: 0.4611 - val_accuracy: 0.8182\n",
            "Epoch 23/50\n",
            "1/2 [==============>...............] - ETA: 0s - loss: 0.1313 - accuracy: 1.0000\n",
            "Epoch 23: saving model to ml_model.ckpt\n",
            "2/2 [==============================] - 0s 50ms/step - loss: 0.1341 - accuracy: 1.0000 - val_loss: 0.4678 - val_accuracy: 0.8182\n",
            "Epoch 24/50\n",
            "1/2 [==============>...............] - ETA: 0s - loss: 0.1562 - accuracy: 1.0000\n",
            "Epoch 24: saving model to ml_model.ckpt\n",
            "2/2 [==============================] - 0s 58ms/step - loss: 0.1186 - accuracy: 1.0000 - val_loss: 0.4508 - val_accuracy: 0.7273\n",
            "Epoch 25/50\n",
            "1/2 [==============>...............] - ETA: 0s - loss: 0.0984 - accuracy: 1.0000\n",
            "Epoch 25: saving model to ml_model.ckpt\n",
            "2/2 [==============================] - 0s 50ms/step - loss: 0.1043 - accuracy: 1.0000 - val_loss: 0.4308 - val_accuracy: 0.7273\n",
            "Epoch 26/50\n",
            "1/2 [==============>...............] - ETA: 0s - loss: 0.0799 - accuracy: 1.0000\n",
            "Epoch 26: saving model to ml_model.ckpt\n",
            "2/2 [==============================] - 0s 46ms/step - loss: 0.0957 - accuracy: 1.0000 - val_loss: 0.4343 - val_accuracy: 0.8182\n",
            "Epoch 27/50\n",
            "1/2 [==============>...............] - ETA: 0s - loss: 0.0875 - accuracy: 1.0000\n",
            "Epoch 27: saving model to ml_model.ckpt\n",
            "2/2 [==============================] - 0s 45ms/step - loss: 0.0833 - accuracy: 1.0000 - val_loss: 0.4329 - val_accuracy: 0.8182\n",
            "Epoch 28/50\n",
            "1/2 [==============>...............] - ETA: 0s - loss: 0.0643 - accuracy: 1.0000\n",
            "Epoch 28: saving model to ml_model.ckpt\n",
            "2/2 [==============================] - 0s 53ms/step - loss: 0.0727 - accuracy: 1.0000 - val_loss: 0.4297 - val_accuracy: 0.7273\n",
            "Epoch 29/50\n",
            "1/2 [==============>...............] - ETA: 0s - loss: 0.0630 - accuracy: 1.0000\n",
            "Epoch 29: saving model to ml_model.ckpt\n",
            "2/2 [==============================] - 0s 48ms/step - loss: 0.0660 - accuracy: 1.0000 - val_loss: 0.4281 - val_accuracy: 0.8182\n",
            "Epoch 30/50\n",
            "1/2 [==============>...............] - ETA: 0s - loss: 0.0565 - accuracy: 1.0000\n",
            "Epoch 30: saving model to ml_model.ckpt\n",
            "2/2 [==============================] - 0s 54ms/step - loss: 0.0592 - accuracy: 1.0000 - val_loss: 0.4285 - val_accuracy: 0.8182\n",
            "Epoch 31/50\n",
            "1/2 [==============>...............] - ETA: 0s - loss: 0.0580 - accuracy: 1.0000\n",
            "Epoch 31: saving model to ml_model.ckpt\n",
            "2/2 [==============================] - 0s 49ms/step - loss: 0.0533 - accuracy: 1.0000 - val_loss: 0.4378 - val_accuracy: 0.8182\n",
            "Epoch 32/50\n",
            "1/2 [==============>...............] - ETA: 0s - loss: 0.0452 - accuracy: 1.0000\n",
            "Epoch 32: saving model to ml_model.ckpt\n",
            "2/2 [==============================] - 0s 47ms/step - loss: 0.0484 - accuracy: 1.0000 - val_loss: 0.4527 - val_accuracy: 0.8182\n",
            "Epoch 33/50\n",
            "1/2 [==============>...............] - ETA: 0s - loss: 0.0520 - accuracy: 1.0000\n",
            "Epoch 33: saving model to ml_model.ckpt\n",
            "2/2 [==============================] - 0s 45ms/step - loss: 0.0447 - accuracy: 1.0000 - val_loss: 0.4473 - val_accuracy: 0.8182\n",
            "Epoch 34/50\n",
            "1/2 [==============>...............] - ETA: 0s - loss: 0.0359 - accuracy: 1.0000\n",
            "Epoch 34: saving model to ml_model.ckpt\n",
            "2/2 [==============================] - 0s 45ms/step - loss: 0.0402 - accuracy: 1.0000 - val_loss: 0.4502 - val_accuracy: 0.8182\n",
            "Epoch 35/50\n",
            "1/2 [==============>...............] - ETA: 0s - loss: 0.0389 - accuracy: 1.0000\n",
            "Epoch 35: saving model to ml_model.ckpt\n",
            "2/2 [==============================] - 0s 49ms/step - loss: 0.0372 - accuracy: 1.0000 - val_loss: 0.4720 - val_accuracy: 0.8182\n",
            "Epoch 36/50\n",
            "1/2 [==============>...............] - ETA: 0s - loss: 0.0380 - accuracy: 1.0000\n",
            "Epoch 36: saving model to ml_model.ckpt\n",
            "2/2 [==============================] - 0s 50ms/step - loss: 0.0337 - accuracy: 1.0000 - val_loss: 0.4783 - val_accuracy: 0.8182\n",
            "Epoch 37/50\n",
            "1/2 [==============>...............] - ETA: 0s - loss: 0.0313 - accuracy: 1.0000\n",
            "Epoch 37: saving model to ml_model.ckpt\n",
            "2/2 [==============================] - 0s 54ms/step - loss: 0.0311 - accuracy: 1.0000 - val_loss: 0.4729 - val_accuracy: 0.8182\n",
            "Epoch 38/50\n",
            "1/2 [==============>...............] - ETA: 0s - loss: 0.0312 - accuracy: 1.0000\n",
            "Epoch 38: saving model to ml_model.ckpt\n",
            "2/2 [==============================] - 0s 48ms/step - loss: 0.0287 - accuracy: 1.0000 - val_loss: 0.4765 - val_accuracy: 0.8182\n",
            "Epoch 39/50\n",
            "1/2 [==============>...............] - ETA: 0s - loss: 0.0275 - accuracy: 1.0000\n",
            "Epoch 39: saving model to ml_model.ckpt\n",
            "2/2 [==============================] - 0s 48ms/step - loss: 0.0264 - accuracy: 1.0000 - val_loss: 0.4689 - val_accuracy: 0.8182\n",
            "Epoch 40/50\n",
            "1/2 [==============>...............] - ETA: 0s - loss: 0.0210 - accuracy: 1.0000\n",
            "Epoch 40: saving model to ml_model.ckpt\n",
            "2/2 [==============================] - 0s 64ms/step - loss: 0.0243 - accuracy: 1.0000 - val_loss: 0.4620 - val_accuracy: 0.8182\n",
            "Epoch 41/50\n",
            "1/2 [==============>...............] - ETA: 0s - loss: 0.0201 - accuracy: 1.0000\n",
            "Epoch 41: saving model to ml_model.ckpt\n",
            "2/2 [==============================] - 0s 50ms/step - loss: 0.0228 - accuracy: 1.0000 - val_loss: 0.4567 - val_accuracy: 0.8182\n",
            "Epoch 42/50\n",
            "1/2 [==============>...............] - ETA: 0s - loss: 0.0189 - accuracy: 1.0000\n",
            "Epoch 42: saving model to ml_model.ckpt\n",
            "2/2 [==============================] - 0s 50ms/step - loss: 0.0213 - accuracy: 1.0000 - val_loss: 0.4667 - val_accuracy: 0.8182\n",
            "Epoch 43/50\n",
            "1/2 [==============>...............] - ETA: 0s - loss: 0.0240 - accuracy: 1.0000\n",
            "Epoch 43: saving model to ml_model.ckpt\n",
            "2/2 [==============================] - 0s 50ms/step - loss: 0.0199 - accuracy: 1.0000 - val_loss: 0.4770 - val_accuracy: 0.8182\n",
            "Epoch 44/50\n",
            "1/2 [==============>...............] - ETA: 0s - loss: 0.0201 - accuracy: 1.0000\n",
            "Epoch 44: saving model to ml_model.ckpt\n",
            "2/2 [==============================] - 0s 49ms/step - loss: 0.0187 - accuracy: 1.0000 - val_loss: 0.4813 - val_accuracy: 0.8182\n",
            "Epoch 45/50\n",
            "1/2 [==============>...............] - ETA: 0s - loss: 0.0174 - accuracy: 1.0000\n",
            "Epoch 45: saving model to ml_model.ckpt\n",
            "2/2 [==============================] - 0s 47ms/step - loss: 0.0176 - accuracy: 1.0000 - val_loss: 0.4878 - val_accuracy: 0.8182\n",
            "Epoch 46/50\n",
            "1/2 [==============>...............] - ETA: 0s - loss: 0.0173 - accuracy: 1.0000\n",
            "Epoch 46: saving model to ml_model.ckpt\n",
            "2/2 [==============================] - 0s 49ms/step - loss: 0.0167 - accuracy: 1.0000 - val_loss: 0.4933 - val_accuracy: 0.8182\n",
            "Epoch 47/50\n",
            "1/2 [==============>...............] - ETA: 0s - loss: 0.0168 - accuracy: 1.0000\n",
            "Epoch 47: saving model to ml_model.ckpt\n",
            "2/2 [==============================] - 0s 51ms/step - loss: 0.0156 - accuracy: 1.0000 - val_loss: 0.4963 - val_accuracy: 0.8182\n",
            "Epoch 48/50\n",
            "1/2 [==============>...............] - ETA: 0s - loss: 0.0182 - accuracy: 1.0000\n",
            "Epoch 48: saving model to ml_model.ckpt\n",
            "2/2 [==============================] - 0s 48ms/step - loss: 0.0149 - accuracy: 1.0000 - val_loss: 0.5009 - val_accuracy: 0.8182\n",
            "Epoch 49/50\n",
            "1/2 [==============>...............] - ETA: 0s - loss: 0.0197 - accuracy: 1.0000\n",
            "Epoch 49: saving model to ml_model.ckpt\n",
            "2/2 [==============================] - 0s 47ms/step - loss: 0.0141 - accuracy: 1.0000 - val_loss: 0.5016 - val_accuracy: 0.8182\n",
            "Epoch 50/50\n",
            "1/2 [==============>...............] - ETA: 0s - loss: 0.0135 - accuracy: 1.0000\n",
            "Epoch 50: saving model to ml_model.ckpt\n",
            "2/2 [==============================] - 0s 54ms/step - loss: 0.0136 - accuracy: 1.0000 - val_loss: 0.5095 - val_accuracy: 0.8182\n",
            "1/1 [==============================] - 0s 88ms/step\n"
          ]
        },
        {
          "name": "stderr",
          "output_type": "stream",
          "text": [
            "WARNING:absl:Found untraced functions such as _jit_compiled_convolution_op, _update_step_xla while saving (showing 2 of 2). These functions will not be directly callable after loading.\n"
          ]
        }
      ],
      "source": [
        "num_classes = 3\n",
        "encoder = LabelEncoder()\n",
        "y_one_hot = encoder.fit_transform(y)\n",
        "\n",
        "y_one_hot\n",
        "X_train, X_test, y_train, y_test = train_test_split(X, y_one_hot, test_size=0.2, random_state=42)\n",
        "\n",
        "\n",
        "model = Sequential()\n",
        "model.add(Conv2D(32, kernel_size=(3, 3), activation='relu', input_shape=(X.shape[1], X.shape[2], 1)))\n",
        "model.add(MaxPooling2D(pool_size=(2, 2)))\n",
        "model.add(Flatten())\n",
        "model.add(Dense(64, activation='relu'))\n",
        "model.add(Dense(num_classes, activation='softmax'))\n",
        "\n",
        "model.compile(optimizer=tf.keras.optimizers.Adam(learning_rate=1e-3),\n",
        "              loss=tf.keras.losses.sparse_categorical_crossentropy,\n",
        "              metrics=['accuracy'])\n",
        "\n",
        "model_checkpoint = 'ml_model.ckpt'\n",
        "_callback = tf.keras.callbacks.ModelCheckpoint(filepath=model_checkpoint,\n",
        "                                                        save_weights_only=True,\n",
        "                                                        verbose=1)\n",
        "model.fit(X_train, y_train, epochs=50, validation_split=0.15, callbacks=[_callback])\n",
        "\n",
        "predictions = model.predict(X_test)\n",
        "\n",
        "predicted_classes = np.argmax(predictions, axis=1)\n",
        "# model.save('my_model.pb')\n",
        "model.save('pretrained')"
      ]
    },
    {
      "cell_type": "code",
      "execution_count": 6,
      "metadata": {
        "colab": {
          "base_uri": "https://localhost:8080/"
        },
        "id": "lzWsEXsOvHSi",
        "outputId": "dac51cc2-ad5b-4abd-e4f4-114e161f6f88"
      },
      "outputs": [
        {
          "name": "stdout",
          "output_type": "stream",
          "text": [
            "  adding: pretrained/ (stored 0%)\n",
            "  adding: pretrained/variables/ (stored 0%)\n",
            "  adding: pretrained/variables/variables.data-00000-of-00001 (deflated 12%)\n",
            "  adding: pretrained/variables/variables.index (deflated 60%)\n",
            "  adding: pretrained/fingerprint.pb (stored 0%)\n",
            "  adding: pretrained/saved_model.pb (deflated 87%)\n",
            "  adding: pretrained/assets/ (stored 0%)\n",
            "  adding: pretrained/keras_metadata.pb (deflated 88%)\n"
          ]
        }
      ],
      "source": [
        "!zip -r pretrained.zip pretrained"
      ]
    },
    {
      "cell_type": "code",
      "execution_count": null,
      "metadata": {
        "colab": {
          "base_uri": "https://localhost:8080/"
        },
        "id": "sowzI0qQfZR6",
        "outputId": "ff884784-c888-4b2d-abb1-b78570f2db60"
      },
      "outputs": [
        {
          "data": {
            "text/plain": [
              "(array([2, 1, 1, 1, 0, 2, 0, 1, 0, 2, 2, 1, 1, 2, 2, 1, 1, 2]),\n",
              " array([2, 0, 1, 1, 0, 2, 0, 0, 0, 2, 2, 2, 1, 2, 2, 2, 1, 2]))"
            ]
          },
          "execution_count": 5,
          "metadata": {},
          "output_type": "execute_result"
        }
      ],
      "source": [
        "predicted_classes, y_test"
      ]
    },
    {
      "cell_type": "code",
      "execution_count": null,
      "metadata": {
        "colab": {
          "base_uri": "https://localhost:8080/"
        },
        "id": "QWuoy2OFFa5C",
        "outputId": "36db019b-089b-4da2-d3da-12db9497f825"
      },
      "outputs": [
        {
          "name": "stdout",
          "output_type": "stream",
          "text": [
            "1/1 [==============================] - 0s 28ms/step - loss: 0.6582 - accuracy: 0.7778\n"
          ]
        },
        {
          "data": {
            "text/plain": [
              "[0.6582198143005371, 0.7777777910232544]"
            ]
          },
          "execution_count": 6,
          "metadata": {},
          "output_type": "execute_result"
        }
      ],
      "source": [
        "model.evaluate(X_test, y_test)"
      ]
    },
    {
      "cell_type": "code",
      "execution_count": null,
      "metadata": {
        "colab": {
          "base_uri": "https://localhost:8080/"
        },
        "id": "hvCTfU8ZKPsv",
        "outputId": "8e74b391-097b-4329-d44b-1ea0818e8733"
      },
      "outputs": [
        {
          "name": "stdout",
          "output_type": "stream",
          "text": [
            "1/1 [==============================] - 0s 185ms/step\n"
          ]
        },
        {
          "data": {
            "text/plain": [
              "array([2, 1, 2, 2, 0, 2, 2, 1, 1, 0, 2, 1, 0, 0, 1, 0, 0, 0, 1, 0])"
            ]
          },
          "execution_count": 162,
          "metadata": {},
          "output_type": "execute_result"
        }
      ],
      "source": [
        "new_model = tf.keras.models.load_model('my_model.keras')\n",
        "\n",
        "# Show the model architecture\n",
        "preds = new_model.predict(X_test)\n",
        "np.argmax(preds, axis=1)"
      ]
    },
    {
      "cell_type": "code",
      "execution_count": null,
      "metadata": {
        "id": "tpg8Emr7fDzR"
      },
      "outputs": [],
      "source": []
    }
  ],
  "metadata": {
    "accelerator": "GPU",
    "colab": {
      "gpuType": "T4",
      "provenance": []
    },
    "kernelspec": {
      "display_name": "Python 3",
      "name": "python3"
    },
    "language_info": {
      "codemirror_mode": {
        "name": "ipython",
        "version": 3
      },
      "file_extension": ".py",
      "mimetype": "text/x-python",
      "name": "python",
      "nbconvert_exporter": "python",
      "pygments_lexer": "ipython3",
      "version": "3.7.1"
    }
  },
  "nbformat": 4,
  "nbformat_minor": 0
}
